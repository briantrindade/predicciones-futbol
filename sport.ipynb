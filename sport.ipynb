{
  "nbformat": 4,
  "nbformat_minor": 0,
  "metadata": {
    "colab": {
      "provenance": [],
      "authorship_tag": "ABX9TyONsK1IZAEV7OeseIZlI1QW",
      "include_colab_link": true
    },
    "kernelspec": {
      "name": "python3",
      "display_name": "Python 3"
    },
    "language_info": {
      "name": "python"
    }
  },
  "cells": [
    {
      "cell_type": "markdown",
      "metadata": {
        "id": "view-in-github",
        "colab_type": "text"
      },
      "source": [
        "<a href=\"https://colab.research.google.com/github/briantrindade/predicciones-futbol/blob/main/sport.ipynb\" target=\"_parent\"><img src=\"https://colab.research.google.com/assets/colab-badge.svg\" alt=\"Open In Colab\"/></a>"
      ]
    },
    {
      "cell_type": "code",
      "execution_count": null,
      "metadata": {
        "colab": {
          "base_uri": "https://localhost:8080/"
        },
        "id": "zHGIuKAmZ59m",
        "outputId": "1d11ab3d-cc4e-49f0-db2d-adbc42817b26"
      },
      "outputs": [
        {
          "output_type": "stream",
          "name": "stdout",
          "text": [
            "Writing app.py\n"
          ]
        }
      ],
      "source": [
        "%%writefile app.py\n",
        "import streamlit as st\n",
        "import pandas as pd\n",
        "import requests\n",
        "\n",
        "# Reemplaza con tu clave API\n",
        "api_key = \"2580147fe536ec7ebeefaf9564b5fe85\"\n",
        "\n",
        "# Endpoint de probabilidades de fútbol\n",
        "url = \"https://api.the-odds-api.com/v4/sports/soccer_epl/odds/?regions=eu&markets=h2h,totals&apiKey=\" + api_key\n",
        "\n",
        "# Función para obtener datos de la API\n",
        "def obtener_datos():\n",
        "    response = requests.get(url)\n",
        "    if response.status_code == 200:\n",
        "        return response.json()\n",
        "    else:\n",
        "        st.error(\"Error al obtener los datos de la API.\")\n",
        "        return None\n",
        "\n",
        "# Título de la aplicación\n",
        "st.title(\"Predicciones de Fútbol\")\n",
        "\n",
        "# Botón para cargar los datos\n",
        "if st.button(\"Cargar Datos\"):\n",
        "    datos = obtener_datos()\n",
        "\n",
        "    if datos:\n",
        "        # Crear un DataFrame a partir de los datos obtenidos\n",
        "        df = pd.DataFrame(datos)\n",
        "\n",
        "        # Mostrar los datos de los partidos\n",
        "        for index, row in df.iterrows():\n",
        "            home_team = row['home_team']\n",
        "            away_team = row['away_team']\n",
        "            bookmakers = row['bookmakers']\n",
        "\n",
        "            # Acceder al primer bookmaker (casa de apuestas)\n",
        "            if len(bookmakers) > 0:\n",
        "                markets = bookmakers[0]['markets']  # Extraer los mercados de apuestas\n",
        "\n",
        "                # Head-to-head (h2h): equipo 1 gana, empate, equipo 2 gana\n",
        "                if markets[0]['key'] == 'h2h':\n",
        "                    outcomes = markets[0]['outcomes']\n",
        "\n",
        "                    # Extraemos las probabilidades de ganador, empate y perdedor\n",
        "                    cuotas_equipo1 = outcomes[0]['price']  # Cuota del equipo 1\n",
        "                    cuotas_empate = outcomes[1]['price']  # Cuota del empate\n",
        "                    cuotas_equipo2 = outcomes[2]['price']  # Cuota del equipo 2\n",
        "\n",
        "                    # Calcular las probabilidades implícitas\n",
        "                    prob_equipo1 = 1 / cuotas_equipo1 * 100\n",
        "                    prob_empate = 1 / cuotas_empate * 100\n",
        "                    prob_equipo2 = 1 / cuotas_equipo2 * 100\n",
        "\n",
        "                    # Mostrar los resultados en la aplicación Streamlit\n",
        "                    st.subheader(f\"Partido: {home_team} vs {away_team}\")\n",
        "                    st.write(f\"Probabilidad de ganar {home_team}: {prob_equipo1:.2f}%\")\n",
        "                    st.write(f\"Probabilidad de Empate: {prob_empate:.2f}%\")\n",
        "                    st.write(f\"Probabilidad de ganar {away_team}: {prob_equipo2:.2f}%\")\n",
        "\n",
        "                # Totales (goles over/under)\n",
        "                if markets[1]['key'] == 'totals':\n",
        "                    totals = markets[1]['outcomes']\n",
        "\n",
        "                    # Extraemos las probabilidades del over/under de goles\n",
        "                    total_goles_over = totals[0]['price']  # Cuota de más de X goles\n",
        "                    total_goles_under = totals[1]['price']  # Cuota de menos de X goles\n",
        "\n",
        "                    # Mostrar las probabilidades de goles en la aplicación\n",
        "                    st.write(f\"Probabilidad de que haya más de {totals[0]['name']} goles: {total_goles_over * 100:.2f}%\")\n",
        "                    st.write(f\"Probabilidad de que haya menos de {totals[1]['name']} goles: {total_goles_under * 100:.2f}%\")\n",
        "            else:\n",
        "                st.write(\"No hay datos disponibles para los bookmakers.\")\n",
        "    else:\n",
        "        st.write(\"No hay datos de partidos disponibles.\")\n"
      ]
    },
    {
      "cell_type": "code",
      "source": [
        "!streamlit run app.py &\n"
      ],
      "metadata": {
        "colab": {
          "base_uri": "https://localhost:8080/"
        },
        "id": "rQGLuAnIZ-v9",
        "outputId": "5ed7026c-f99d-4794-a46d-560f372c218c"
      },
      "execution_count": null,
      "outputs": [
        {
          "output_type": "stream",
          "name": "stdout",
          "text": [
            "/bin/bash: line 1: streamlit: command not found\n"
          ]
        }
      ]
    },
    {
      "cell_type": "code",
      "source": [
        "!pip install streamlit\n"
      ],
      "metadata": {
        "colab": {
          "base_uri": "https://localhost:8080/"
        },
        "id": "VPR_cmxjaKqz",
        "outputId": "549225f4-eb03-48e3-d91e-74513f8cdb7f"
      },
      "execution_count": null,
      "outputs": [
        {
          "output_type": "stream",
          "name": "stdout",
          "text": [
            "Collecting streamlit\n",
            "  Downloading streamlit-1.39.0-py2.py3-none-any.whl.metadata (8.5 kB)\n",
            "Requirement already satisfied: altair<6,>=4.0 in /usr/local/lib/python3.10/dist-packages (from streamlit) (4.2.2)\n",
            "Requirement already satisfied: blinker<2,>=1.0.0 in /usr/lib/python3/dist-packages (from streamlit) (1.4)\n",
            "Requirement already satisfied: cachetools<6,>=4.0 in /usr/local/lib/python3.10/dist-packages (from streamlit) (5.5.0)\n",
            "Requirement already satisfied: click<9,>=7.0 in /usr/local/lib/python3.10/dist-packages (from streamlit) (8.1.7)\n",
            "Requirement already satisfied: numpy<3,>=1.20 in /usr/local/lib/python3.10/dist-packages (from streamlit) (1.26.4)\n",
            "Requirement already satisfied: packaging<25,>=20 in /usr/local/lib/python3.10/dist-packages (from streamlit) (24.1)\n",
            "Requirement already satisfied: pandas<3,>=1.4.0 in /usr/local/lib/python3.10/dist-packages (from streamlit) (2.2.2)\n",
            "Requirement already satisfied: pillow<11,>=7.1.0 in /usr/local/lib/python3.10/dist-packages (from streamlit) (10.4.0)\n",
            "Requirement already satisfied: protobuf<6,>=3.20 in /usr/local/lib/python3.10/dist-packages (from streamlit) (3.20.3)\n",
            "Requirement already satisfied: pyarrow>=7.0 in /usr/local/lib/python3.10/dist-packages (from streamlit) (16.1.0)\n",
            "Requirement already satisfied: requests<3,>=2.27 in /usr/local/lib/python3.10/dist-packages (from streamlit) (2.32.3)\n",
            "Requirement already satisfied: rich<14,>=10.14.0 in /usr/local/lib/python3.10/dist-packages (from streamlit) (13.9.2)\n",
            "Requirement already satisfied: tenacity<10,>=8.1.0 in /usr/local/lib/python3.10/dist-packages (from streamlit) (9.0.0)\n",
            "Requirement already satisfied: toml<2,>=0.10.1 in /usr/local/lib/python3.10/dist-packages (from streamlit) (0.10.2)\n",
            "Requirement already satisfied: typing-extensions<5,>=4.3.0 in /usr/local/lib/python3.10/dist-packages (from streamlit) (4.12.2)\n",
            "Collecting gitpython!=3.1.19,<4,>=3.0.7 (from streamlit)\n",
            "  Downloading GitPython-3.1.43-py3-none-any.whl.metadata (13 kB)\n",
            "Collecting pydeck<1,>=0.8.0b4 (from streamlit)\n",
            "  Downloading pydeck-0.9.1-py2.py3-none-any.whl.metadata (4.1 kB)\n",
            "Requirement already satisfied: tornado<7,>=6.0.3 in /usr/local/lib/python3.10/dist-packages (from streamlit) (6.3.3)\n",
            "Collecting watchdog<6,>=2.1.5 (from streamlit)\n",
            "  Downloading watchdog-5.0.3-py3-none-manylinux2014_x86_64.whl.metadata (41 kB)\n",
            "\u001b[2K     \u001b[90m━━━━━━━━━━━━━━━━━━━━━━━━━━━━━━━━━━━━━━━━\u001b[0m \u001b[32m41.9/41.9 kB\u001b[0m \u001b[31m1.8 MB/s\u001b[0m eta \u001b[36m0:00:00\u001b[0m\n",
            "\u001b[?25hRequirement already satisfied: entrypoints in /usr/local/lib/python3.10/dist-packages (from altair<6,>=4.0->streamlit) (0.4)\n",
            "Requirement already satisfied: jinja2 in /usr/local/lib/python3.10/dist-packages (from altair<6,>=4.0->streamlit) (3.1.4)\n",
            "Requirement already satisfied: jsonschema>=3.0 in /usr/local/lib/python3.10/dist-packages (from altair<6,>=4.0->streamlit) (4.23.0)\n",
            "Requirement already satisfied: toolz in /usr/local/lib/python3.10/dist-packages (from altair<6,>=4.0->streamlit) (0.12.1)\n",
            "Collecting gitdb<5,>=4.0.1 (from gitpython!=3.1.19,<4,>=3.0.7->streamlit)\n",
            "  Downloading gitdb-4.0.11-py3-none-any.whl.metadata (1.2 kB)\n",
            "Requirement already satisfied: python-dateutil>=2.8.2 in /usr/local/lib/python3.10/dist-packages (from pandas<3,>=1.4.0->streamlit) (2.8.2)\n",
            "Requirement already satisfied: pytz>=2020.1 in /usr/local/lib/python3.10/dist-packages (from pandas<3,>=1.4.0->streamlit) (2024.2)\n",
            "Requirement already satisfied: tzdata>=2022.7 in /usr/local/lib/python3.10/dist-packages (from pandas<3,>=1.4.0->streamlit) (2024.2)\n",
            "Requirement already satisfied: charset-normalizer<4,>=2 in /usr/local/lib/python3.10/dist-packages (from requests<3,>=2.27->streamlit) (3.3.2)\n",
            "Requirement already satisfied: idna<4,>=2.5 in /usr/local/lib/python3.10/dist-packages (from requests<3,>=2.27->streamlit) (3.10)\n",
            "Requirement already satisfied: urllib3<3,>=1.21.1 in /usr/local/lib/python3.10/dist-packages (from requests<3,>=2.27->streamlit) (2.2.3)\n",
            "Requirement already satisfied: certifi>=2017.4.17 in /usr/local/lib/python3.10/dist-packages (from requests<3,>=2.27->streamlit) (2024.8.30)\n",
            "Requirement already satisfied: markdown-it-py>=2.2.0 in /usr/local/lib/python3.10/dist-packages (from rich<14,>=10.14.0->streamlit) (3.0.0)\n",
            "Requirement already satisfied: pygments<3.0.0,>=2.13.0 in /usr/local/lib/python3.10/dist-packages (from rich<14,>=10.14.0->streamlit) (2.18.0)\n",
            "Collecting smmap<6,>=3.0.1 (from gitdb<5,>=4.0.1->gitpython!=3.1.19,<4,>=3.0.7->streamlit)\n",
            "  Downloading smmap-5.0.1-py3-none-any.whl.metadata (4.3 kB)\n",
            "Requirement already satisfied: MarkupSafe>=2.0 in /usr/local/lib/python3.10/dist-packages (from jinja2->altair<6,>=4.0->streamlit) (2.1.5)\n",
            "Requirement already satisfied: attrs>=22.2.0 in /usr/local/lib/python3.10/dist-packages (from jsonschema>=3.0->altair<6,>=4.0->streamlit) (24.2.0)\n",
            "Requirement already satisfied: jsonschema-specifications>=2023.03.6 in /usr/local/lib/python3.10/dist-packages (from jsonschema>=3.0->altair<6,>=4.0->streamlit) (2023.12.1)\n",
            "Requirement already satisfied: referencing>=0.28.4 in /usr/local/lib/python3.10/dist-packages (from jsonschema>=3.0->altair<6,>=4.0->streamlit) (0.35.1)\n",
            "Requirement already satisfied: rpds-py>=0.7.1 in /usr/local/lib/python3.10/dist-packages (from jsonschema>=3.0->altair<6,>=4.0->streamlit) (0.20.0)\n",
            "Requirement already satisfied: mdurl~=0.1 in /usr/local/lib/python3.10/dist-packages (from markdown-it-py>=2.2.0->rich<14,>=10.14.0->streamlit) (0.1.2)\n",
            "Requirement already satisfied: six>=1.5 in /usr/local/lib/python3.10/dist-packages (from python-dateutil>=2.8.2->pandas<3,>=1.4.0->streamlit) (1.16.0)\n",
            "Downloading streamlit-1.39.0-py2.py3-none-any.whl (8.7 MB)\n",
            "\u001b[2K   \u001b[90m━━━━━━━━━━━━━━━━━━━━━━━━━━━━━━━━━━━━━━━━\u001b[0m \u001b[32m8.7/8.7 MB\u001b[0m \u001b[31m28.6 MB/s\u001b[0m eta \u001b[36m0:00:00\u001b[0m\n",
            "\u001b[?25hDownloading GitPython-3.1.43-py3-none-any.whl (207 kB)\n",
            "\u001b[2K   \u001b[90m━━━━━━━━━━━━━━━━━━━━━━━━━━━━━━━━━━━━━━━━\u001b[0m \u001b[32m207.3/207.3 kB\u001b[0m \u001b[31m7.0 MB/s\u001b[0m eta \u001b[36m0:00:00\u001b[0m\n",
            "\u001b[?25hDownloading pydeck-0.9.1-py2.py3-none-any.whl (6.9 MB)\n",
            "\u001b[2K   \u001b[90m━━━━━━━━━━━━━━━━━━━━━━━━━━━━━━━━━━━━━━━━\u001b[0m \u001b[32m6.9/6.9 MB\u001b[0m \u001b[31m25.2 MB/s\u001b[0m eta \u001b[36m0:00:00\u001b[0m\n",
            "\u001b[?25hDownloading watchdog-5.0.3-py3-none-manylinux2014_x86_64.whl (79 kB)\n",
            "\u001b[2K   \u001b[90m━━━━━━━━━━━━━━━━━━━━━━━━━━━━━━━━━━━━━━━━\u001b[0m \u001b[32m79.3/79.3 kB\u001b[0m \u001b[31m4.2 MB/s\u001b[0m eta \u001b[36m0:00:00\u001b[0m\n",
            "\u001b[?25hDownloading gitdb-4.0.11-py3-none-any.whl (62 kB)\n",
            "\u001b[2K   \u001b[90m━━━━━━━━━━━━━━━━━━━━━━━━━━━━━━━━━━━━━━━━\u001b[0m \u001b[32m62.7/62.7 kB\u001b[0m \u001b[31m3.9 MB/s\u001b[0m eta \u001b[36m0:00:00\u001b[0m\n",
            "\u001b[?25hDownloading smmap-5.0.1-py3-none-any.whl (24 kB)\n",
            "Installing collected packages: watchdog, smmap, pydeck, gitdb, gitpython, streamlit\n",
            "Successfully installed gitdb-4.0.11 gitpython-3.1.43 pydeck-0.9.1 smmap-5.0.1 streamlit-1.39.0 watchdog-5.0.3\n"
          ]
        }
      ]
    },
    {
      "cell_type": "code",
      "source": [
        "%%writefile app.py\n",
        "import streamlit as st\n",
        "import pandas as pd\n",
        "import requests\n",
        "\n",
        "# Reemplaza con tu clave API\n",
        "api_key = \"2580147fe536ec7ebeefaf9564b5fe85\"\n",
        "\n",
        "# Endpoint de probabilidades de fútbol\n",
        "url = \"https://api.the-odds-api.com/v4/sports/soccer_epl/odds/?regions=eu&markets=h2h,totals&apiKey=\" + api_key\n",
        "\n",
        "# Función para obtener datos de la API\n",
        "def obtener_datos():\n",
        "    response = requests.get(url)\n",
        "    if response.status_code == 200:\n",
        "        return response.json()\n",
        "    else:\n",
        "        st.error(\"Error al obtener los datos de la API.\")\n",
        "        return None\n",
        "\n",
        "# Título de la aplicación\n",
        "st.title(\"Predicciones de Fútbol\")\n",
        "\n",
        "# Botón para cargar los datos\n",
        "if st.button(\"Cargar Datos\"):\n",
        "    datos = obtener_datos()\n",
        "\n",
        "    if datos:\n",
        "        # Crear un DataFrame a partir de los datos obtenidos\n",
        "        df = pd.DataFrame(datos)\n",
        "\n",
        "        # Mostrar los datos de los partidos\n",
        "        for index, row in df.iterrows():\n",
        "            home_team = row['home_team']\n",
        "            away_team = row['away_team']\n",
        "            bookmakers = row['bookmakers']\n",
        "\n",
        "            # Acceder al primer bookmaker (casa de apuestas)\n",
        "            if len(bookmakers) > 0:\n",
        "                markets = bookmakers[0]['markets']  # Extraer los mercados de apuestas\n",
        "\n",
        "                # Head-to-head (h2h): equipo 1 gana, empate, equipo 2 gana\n",
        "                if markets[0]['key'] == 'h2h':\n",
        "                    outcomes = markets[0]['outcomes']\n",
        "\n",
        "                    # Extraemos las probabilidades de ganador, empate y perdedor\n",
        "                    cuotas_equipo1 = outcomes[0]['price']  # Cuota del equipo 1\n",
        "                    cuotas_empate = outcomes[1]['price']  # Cuota del empate\n",
        "                    cuotas_equipo2 = outcomes[2]['price']  # Cuota del equipo 2\n",
        "\n",
        "                    # Calcular las probabilidades implícitas\n",
        "                    prob_equipo1 = 1 / cuotas_equipo1 * 100\n",
        "                    prob_empate = 1 / cuotas_empate * 100\n",
        "                    prob_equipo2 = 1 / cuotas_equipo2 * 100\n",
        "\n",
        "                    # Mostrar los resultados en la aplicación Streamlit\n",
        "                    st.subheader(f\"Partido: {home_team} vs {away_team}\")\n",
        "                    st.write(f\"Probabilidad de ganar {home_team}: {prob_equipo1:.2f}%\")\n",
        "                    st.write(f\"Probabilidad de Empate: {prob_empate:.2f}%\")\n",
        "                    st.write(f\"Probabilidad de ganar {away_team}: {prob_equipo2:.2f}%\")\n",
        "\n",
        "                # Totales (goles over/under)\n",
        "                if markets[1]['key'] == 'totals':\n",
        "                    totals = markets[1]['outcomes']\n",
        "\n",
        "                    # Extraemos las probabilidades del over/under de goles\n",
        "                    total_goles_over = totals[0]['price']  # Cuota de más de X goles\n",
        "                    total_goles_under = totals[1]['price']  # Cuota de menos de X goles\n",
        "\n",
        "                    # Mostrar las probabilidades de goles en la aplicación\n",
        "                    st.write(f\"Probabilidad de que haya más de {totals[0]['name']} goles: {total_goles_over * 100:.2f}%\")\n",
        "                    st.write(f\"Probabilidad de que haya menos de {totals[1]['name']} goles: {total_goles_under * 100:.2f}%\")\n",
        "            else:\n",
        "                st.write(\"No hay datos disponibles para los bookmakers.\")\n",
        "    else:\n",
        "        st.write(\"No hay datos de partidos disponibles.\")\n"
      ],
      "metadata": {
        "colab": {
          "base_uri": "https://localhost:8080/"
        },
        "id": "jwdSoICSaj1E",
        "outputId": "7c7375cd-3afa-491f-deee-48386786b402"
      },
      "execution_count": null,
      "outputs": [
        {
          "output_type": "stream",
          "name": "stdout",
          "text": [
            "Overwriting app.py\n"
          ]
        }
      ]
    },
    {
      "cell_type": "code",
      "source": [
        "!streamlit run app.py &\n"
      ],
      "metadata": {
        "colab": {
          "base_uri": "https://localhost:8080/"
        },
        "id": "ygiyejayatjj",
        "outputId": "38a3ecef-1f98-4662-bc6f-509adb3fe908"
      },
      "execution_count": 5,
      "outputs": [
        {
          "output_type": "stream",
          "name": "stdout",
          "text": [
            "\n",
            "Collecting usage statistics. To deactivate, set browser.gatherUsageStats to false.\n",
            "\u001b[0m\n",
            "\u001b[0m\n",
            "\u001b[34m\u001b[1m  You can now view your Streamlit app in your browser.\u001b[0m\n",
            "\u001b[0m\n",
            "\u001b[34m  Local URL: \u001b[0m\u001b[1mhttp://localhost:8501\u001b[0m\n",
            "\u001b[34m  Network URL: \u001b[0m\u001b[1mhttp://172.28.0.12:8501\u001b[0m\n",
            "\u001b[34m  External URL: \u001b[0m\u001b[1mhttp://34.67.216.110:8501\u001b[0m\n",
            "\u001b[0m\n",
            "\u001b[34m  Stopping...\u001b[0m\n"
          ]
        }
      ]
    },
    {
      "cell_type": "code",
      "source": [
        "pip install matplotlib\n"
      ],
      "metadata": {
        "id": "ZLE6tozaaxU0",
        "colab": {
          "base_uri": "https://localhost:8080/"
        },
        "outputId": "dcdf7ca6-daee-4c4c-d3d6-04571680b040"
      },
      "execution_count": 6,
      "outputs": [
        {
          "output_type": "stream",
          "name": "stdout",
          "text": [
            "Requirement already satisfied: matplotlib in /usr/local/lib/python3.10/dist-packages (3.7.1)\n",
            "Requirement already satisfied: contourpy>=1.0.1 in /usr/local/lib/python3.10/dist-packages (from matplotlib) (1.3.0)\n",
            "Requirement already satisfied: cycler>=0.10 in /usr/local/lib/python3.10/dist-packages (from matplotlib) (0.12.1)\n",
            "Requirement already satisfied: fonttools>=4.22.0 in /usr/local/lib/python3.10/dist-packages (from matplotlib) (4.54.1)\n",
            "Requirement already satisfied: kiwisolver>=1.0.1 in /usr/local/lib/python3.10/dist-packages (from matplotlib) (1.4.7)\n",
            "Requirement already satisfied: numpy>=1.20 in /usr/local/lib/python3.10/dist-packages (from matplotlib) (1.26.4)\n",
            "Requirement already satisfied: packaging>=20.0 in /usr/local/lib/python3.10/dist-packages (from matplotlib) (24.1)\n",
            "Requirement already satisfied: pillow>=6.2.0 in /usr/local/lib/python3.10/dist-packages (from matplotlib) (10.4.0)\n",
            "Requirement already satisfied: pyparsing>=2.3.1 in /usr/local/lib/python3.10/dist-packages (from matplotlib) (3.1.4)\n",
            "Requirement already satisfied: python-dateutil>=2.7 in /usr/local/lib/python3.10/dist-packages (from matplotlib) (2.8.2)\n",
            "Requirement already satisfied: six>=1.5 in /usr/local/lib/python3.10/dist-packages (from python-dateutil>=2.7->matplotlib) (1.16.0)\n"
          ]
        }
      ]
    },
    {
      "cell_type": "code",
      "source": [
        "import requests\n",
        "import pandas as pd\n",
        "import streamlit as st\n",
        "import matplotlib.pyplot as plt\n",
        "\n",
        "# Reemplaza con tu clave API\n",
        "api_key = \"2580147fe536ec7ebeefaf9564b5fe85\"\n",
        "\n",
        "# Endpoint de probabilidades de fútbol\n",
        "url = \"https://api.the-odds-api.com/v4/sports/soccer_epl/odds/?regions=eu&markets=h2h,totals&apiKey=\" + api_key\n",
        "\n",
        "# Función para obtener datos de la API\n",
        "def obtener_datos():\n",
        "    response = requests.get(url)\n",
        "    if response.status_code == 200:\n",
        "        return response.json()\n",
        "    else:\n",
        "        st.error(\"Error al obtener los datos de la API.\")\n",
        "        return None\n",
        "\n",
        "# Título de la aplicación\n",
        "st.title(\"Predicciones de Fútbol\")\n",
        "\n",
        "# Filtrar por partidos (cambia esto a tus partidos reales)\n",
        "partidos = [\"Partido 1\", \"Partido 2\", \"Partido 3\"]  # Aquí deberías agregar los nombres de los partidos\n",
        "partido_seleccionado = st.selectbox(\"Selecciona un partido:\", partidos)\n",
        "\n",
        "# Botón para cargar los datos\n",
        "if st.button(\"Cargar Datos\"):\n",
        "    datos = obtener_datos()\n",
        "\n",
        "    if datos:\n",
        "        # Filtrar los datos según el partido seleccionado\n",
        "        df = pd.DataFrame(datos)\n",
        "        partido_info = df[df['home_team'] + \" vs \" + df['away_team'] == partido_seleccionado].iloc[0]\n",
        "\n",
        "        # Mostrar los datos obtenidos del partido seleccionado\n",
        "        st.write(partido_info[['home_team', 'away_team', 'bookmakers']])\n",
        "\n",
        "        # Extraer las cuotas\n",
        "        cuotas_equipo1 = partido_info['bookmakers'][0]['markets'][0]['outcomes'][0]['price']\n",
        "        cuotas_equipo2 = partido_info['bookmakers'][0]['markets'][0]['outcomes'][1]['price']\n",
        "\n",
        "        # Calcular las probabilidades\n",
        "        probabilidad_equipo1 = 1 / cuotas_equipo1 * 100\n",
        "        probabilidad_equipo2 = 1 / cuotas_equipo2 * 100\n",
        "\n",
        "        # Graficar las probabilidades\n",
        "        equipos = [partido_info['home_team'], partido_info['away_team']]\n",
        "        probabilidades = [probabilidad_equipo1, probabilidad_equipo2]\n",
        "\n",
        "        # Crear la figura\n",
        "        fig, ax = plt.subplots()\n",
        "        ax.bar(equipos, probabilidades, color=['blue', 'red'])\n",
        "        ax.set_ylabel('Probabilidad (%)')\n",
        "        ax.set_title(f'Probabilidades para el partido: {partido_seleccionado}')\n",
        "\n",
        "        # Mostrar la gráfica en Streamlit\n",
        "        st.pyplot(fig)\n"
      ],
      "metadata": {
        "colab": {
          "base_uri": "https://localhost:8080/"
        },
        "id": "byrHgc1IjKIM",
        "outputId": "94d3d5cf-7476-4248-a4f0-b58476f8f128"
      },
      "execution_count": 8,
      "outputs": [
        {
          "output_type": "stream",
          "name": "stderr",
          "text": [
            "2024-10-14 01:05:20.374 WARNING streamlit.runtime.scriptrunner_utils.script_run_context: Thread 'MainThread': missing ScriptRunContext! This warning can be ignored when running in bare mode.\n",
            "2024-10-14 01:05:20.489 \n",
            "  \u001b[33m\u001b[1mWarning:\u001b[0m to view this Streamlit app on a browser, run it with the following\n",
            "  command:\n",
            "\n",
            "    streamlit run /usr/local/lib/python3.10/dist-packages/colab_kernel_launcher.py [ARGUMENTS]\n",
            "2024-10-14 01:05:20.491 Thread 'MainThread': missing ScriptRunContext! This warning can be ignored when running in bare mode.\n",
            "2024-10-14 01:05:20.496 Thread 'MainThread': missing ScriptRunContext! This warning can be ignored when running in bare mode.\n",
            "2024-10-14 01:05:20.498 Thread 'MainThread': missing ScriptRunContext! This warning can be ignored when running in bare mode.\n",
            "2024-10-14 01:05:20.500 Thread 'MainThread': missing ScriptRunContext! This warning can be ignored when running in bare mode.\n",
            "2024-10-14 01:05:20.503 Thread 'MainThread': missing ScriptRunContext! This warning can be ignored when running in bare mode.\n",
            "2024-10-14 01:05:20.505 Session state does not function when running a script without `streamlit run`\n",
            "2024-10-14 01:05:20.508 Thread 'MainThread': missing ScriptRunContext! This warning can be ignored when running in bare mode.\n",
            "2024-10-14 01:05:20.510 Thread 'MainThread': missing ScriptRunContext! This warning can be ignored when running in bare mode.\n",
            "2024-10-14 01:05:20.513 Thread 'MainThread': missing ScriptRunContext! This warning can be ignored when running in bare mode.\n",
            "2024-10-14 01:05:20.516 Thread 'MainThread': missing ScriptRunContext! This warning can be ignored when running in bare mode.\n",
            "2024-10-14 01:05:20.517 Thread 'MainThread': missing ScriptRunContext! This warning can be ignored when running in bare mode.\n",
            "2024-10-14 01:05:20.518 Thread 'MainThread': missing ScriptRunContext! This warning can be ignored when running in bare mode.\n",
            "2024-10-14 01:05:20.519 Thread 'MainThread': missing ScriptRunContext! This warning can be ignored when running in bare mode.\n"
          ]
        }
      ]
    },
    {
      "cell_type": "code",
      "source": [
        "import requests\n",
        "import pandas as pd\n",
        "import streamlit as st\n",
        "import matplotlib.pyplot as plt\n",
        "\n",
        "# Reemplaza con tu clave API\n",
        "api_key = \"2580147fe536ec7ebeefaf9564b5fe85\"\n",
        "\n",
        "# Endpoint de probabilidades de fútbol\n",
        "url = \"https://api.the-odds-api.com/v4/sports/soccer_epl/odds/?regions=eu&markets=h2h,totals&apiKey=\" + api_key\n",
        "\n",
        "# Función para obtener datos de la API\n",
        "def obtener_datos():\n",
        "    response = requests.get(url)\n",
        "    if response.status_code == 200:\n",
        "        return response.json()\n",
        "    else:\n",
        "        st.error(\"Error al obtener los datos de la API.\")\n",
        "        return None\n",
        "\n",
        "# Título de la aplicación\n",
        "st.title(\"Predicciones de Fútbol\")\n",
        "\n",
        "# Botón para cargar los datos\n",
        "if st.button(\"Cargar Datos\"):\n",
        "    datos = obtener_datos()\n",
        "\n",
        "    if datos:\n",
        "        df = pd.DataFrame(datos)\n",
        "\n",
        "        # Crear una lista de partidos\n",
        "        partidos = [f\"{row['home_team']} vs {row['away_team']}\" for index, row in df.iterrows()]\n",
        "        partido_seleccionado = st.selectbox(\"Selecciona un partido:\", partidos)\n",
        "\n",
        "        # Filtrar los datos según el partido seleccionado\n",
        "        partido_info = df[df['home_team'] + \" vs \" + df['away_team'] == partido_seleccionado].iloc[0]\n",
        "\n",
        "        # Mostrar los datos obtenidos del partido seleccionado\n",
        "        st.write(partido_info[['home_team', 'away_team', 'bookmakers']])\n",
        "\n",
        "        # Extraer las cuotas\n",
        "        cuotas_equipo1 = partido_info['bookmakers'][0]['markets'][0]['outcomes'][0]['price']\n",
        "        cuotas_equipo2 = partido_info['bookmakers'][0]['markets'][0]['outcomes'][1]['price']\n",
        "\n",
        "        # Calcular las probabilidades\n",
        "        probabilidad_equipo1 = 1 / cuotas_equipo1 * 100\n",
        "        probabilidad_equipo2 = 1 / cuotas_equipo2 * 100\n",
        "\n",
        "        # Graficar las probabilidades\n",
        "        equipos = [partido_info['home_team'], partido_info['away_team']]\n",
        "        probabilidades = [probabilidad_equipo1, probabilidad_equipo2]\n",
        "\n",
        "        # Crear la figura\n",
        "        fig, ax = plt.subplots()\n",
        "        ax.bar(equipos, probabilidades, color=['blue', 'red'])\n",
        "        ax.set_ylabel('Probabilidad (%)')\n",
        "        ax.set_title(f'Probabilidades para el partido: {partido_seleccionado}')\n",
        "        st.pyplot(fig)\n",
        "\n",
        "        # Graficar como gráfico circular\n",
        "        fig2, ax2 = plt.subplots()\n",
        "        ax2.pie(probabilidades, labels=equipos, autopct='%1.1f%%', startangle=90)\n",
        "        ax2.axis('equal')  # Igualar los ejes para que el gráfico sea circular\n",
        "        st.pyplot(fig2)\n"
      ],
      "metadata": {
        "colab": {
          "base_uri": "https://localhost:8080/"
        },
        "id": "VVz8UKAYk5tz",
        "outputId": "71282778-6c7f-4062-e2fc-95692f5ae508"
      },
      "execution_count": 12,
      "outputs": [
        {
          "output_type": "stream",
          "name": "stderr",
          "text": [
            "2024-10-14 01:10:50.799 Thread 'MainThread': missing ScriptRunContext! This warning can be ignored when running in bare mode.\n",
            "2024-10-14 01:10:50.802 Thread 'MainThread': missing ScriptRunContext! This warning can be ignored when running in bare mode.\n",
            "2024-10-14 01:10:50.811 Thread 'MainThread': missing ScriptRunContext! This warning can be ignored when running in bare mode.\n",
            "2024-10-14 01:10:50.815 Thread 'MainThread': missing ScriptRunContext! This warning can be ignored when running in bare mode.\n",
            "2024-10-14 01:10:50.833 Thread 'MainThread': missing ScriptRunContext! This warning can be ignored when running in bare mode.\n",
            "2024-10-14 01:10:50.837 Thread 'MainThread': missing ScriptRunContext! This warning can be ignored when running in bare mode.\n",
            "2024-10-14 01:10:50.843 Thread 'MainThread': missing ScriptRunContext! This warning can be ignored when running in bare mode.\n"
          ]
        }
      ]
    },
    {
      "cell_type": "code",
      "source": [],
      "metadata": {
        "id": "SYnIEvcZk_GL"
      },
      "execution_count": null,
      "outputs": []
    }
  ]
}